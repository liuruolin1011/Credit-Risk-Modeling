{
 "cells": [
  {
   "cell_type": "code",
   "execution_count": 6,
   "id": "6401f21a-8f93-4c2b-8d41-38481b97a3a8",
   "metadata": {},
   "outputs": [],
   "source": [
    "from sklearn.linear_model import LogisticRegression\n",
    "from sklearn.model_selection import train_test_split\n",
    "import pandas as pd\n",
    "import numpy as np\n",
    "import matplotlib.pyplot as plt"
   ]
  },
  {
   "cell_type": "code",
   "execution_count": 7,
   "id": "39be8a03-6596-4284-82ae-ab17d7a49d4f",
   "metadata": {},
   "outputs": [],
   "source": [
    "cr_loan_clean = pd.read_csv('cr_loan_w2.csv')"
   ]
  },
  {
   "cell_type": "markdown",
   "id": "47b6bb69-1cce-4bdf-8327-1cf50920d4d4",
   "metadata": {},
   "source": [
    "## Logistic regression basics"
   ]
  },
  {
   "cell_type": "code",
   "execution_count": 8,
   "id": "75cfab17-ae05-42ad-b812-1f5734d72cb3",
   "metadata": {},
   "outputs": [],
   "source": [
    "# Create the X and y datasets\n",
    "X = cr_loan_clean[['loan_int_rate']]\n",
    "y = cr_loan_clean[['loan_status']]"
   ]
  },
  {
   "cell_type": "code",
   "execution_count": 9,
   "id": "d9e600e7-7bb9-45bc-a541-d159ff0164ae",
   "metadata": {},
   "outputs": [
    {
     "name": "stdout",
     "output_type": "stream",
     "text": [
      "{'C': 1.0, 'class_weight': None, 'dual': False, 'fit_intercept': True, 'intercept_scaling': 1, 'l1_ratio': None, 'max_iter': 100, 'multi_class': 'auto', 'n_jobs': None, 'penalty': 'l2', 'random_state': None, 'solver': 'lbfgs', 'tol': 0.0001, 'verbose': 0, 'warm_start': False}\n"
     ]
    }
   ],
   "source": [
    "# Create and fit a logistic regression model\n",
    "clf_logistic_single = LogisticRegression(solver='lbfgs')\n",
    "clf_logistic_single.fit(X, np.ravel(y))\n",
    "\n",
    "# Print the parameters of the model\n",
    "print(clf_logistic_single.get_params())"
   ]
  },
  {
   "cell_type": "code",
   "execution_count": 10,
   "id": "c3ae29cf-005c-4628-afaa-10e967ecafc6",
   "metadata": {},
   "outputs": [
    {
     "name": "stdout",
     "output_type": "stream",
     "text": [
      "[-4.45785901]\n"
     ]
    }
   ],
   "source": [
    "# Print the intercept of the model\n",
    "print(clf_logistic_single.intercept_)"
   ]
  },
  {
   "cell_type": "markdown",
   "id": "181931fc-fade-4639-8c87-5d573e6bf4fd",
   "metadata": {},
   "source": [
    "You're on your way to making predictions! Notice that the model was able to fit to the data, and establish some parameters internally. It's even produced an .intercept_ value like in the lecture. "
   ]
  },
  {
   "cell_type": "markdown",
   "id": "f54da496-89aa-4a17-b867-75939738c033",
   "metadata": {},
   "source": [
    "## Multivariate logistic regression"
   ]
  },
  {
   "cell_type": "code",
   "execution_count": 11,
   "id": "3d59dad0-83b6-4dc6-a42b-adfc83c23b37",
   "metadata": {},
   "outputs": [],
   "source": [
    "# Create X data for the model\n",
    "X_multi = cr_loan_clean[['loan_int_rate','person_emp_length']]\n",
    "\n",
    "# Create a set of y data for training\n",
    "y = cr_loan_clean[['loan_status']]"
   ]
  },
  {
   "cell_type": "code",
   "execution_count": 12,
   "id": "aa1b8efe-3d85-4579-a5f4-c4f94ae3cb53",
   "metadata": {},
   "outputs": [
    {
     "name": "stdout",
     "output_type": "stream",
     "text": [
      "[-4.21645549]\n"
     ]
    }
   ],
   "source": [
    "# Create and train a new logistic regression\n",
    "clf_logistic_multi = LogisticRegression(solver='lbfgs').fit(X_multi, np.ravel(y))\n",
    "\n",
    "# Print the intercept of the model\n",
    "print(clf_logistic_multi.intercept_)"
   ]
  },
  {
   "cell_type": "markdown",
   "id": "4182224d-ebec-472b-82b6-bb300fbd6ec8",
   "metadata": {},
   "source": [
    "Take a closer look at each model's .intercept_ value. The values have changed! The new clf_logistic_multi model has an .intercept_ value closer to zero. This means the log odds of a non-default is approaching zero."
   ]
  },
  {
   "cell_type": "markdown",
   "id": "c476a639-ce3b-4f7e-8b7c-292f347ee083",
   "metadata": {},
   "source": [
    "## Creating training and test sets"
   ]
  },
  {
   "cell_type": "code",
   "execution_count": 13,
   "id": "a1499610-98d5-4fff-83af-f4efb2bd71c0",
   "metadata": {},
   "outputs": [
    {
     "name": "stdout",
     "output_type": "stream",
     "text": [
      "[[ 1.28517496e-09 -2.27622202e-09 -2.17211991e-05]]\n"
     ]
    }
   ],
   "source": [
    "# Create the X and y data sets\n",
    "X = cr_loan_clean[['loan_int_rate','person_emp_length','person_income']]\n",
    "y = cr_loan_clean[['loan_status']]\n",
    "\n",
    "# Use test_train_split to create the training and test sets\n",
    "X_train, X_test, y_train, y_test = train_test_split(X, y, test_size=0.4, random_state=123)\n",
    "\n",
    "# Create and fit the logistic regression model\n",
    "clf_logistic = LogisticRegression(solver='lbfgs').fit(X_train, np.ravel(y_train))\n",
    "\n",
    "# Print the models coefficients\n",
    "print(clf_logistic.coef_)"
   ]
  },
  {
   "cell_type": "markdown",
   "id": "1420592f-9f44-408a-8798-c4c1b5434627",
   "metadata": {},
   "source": [
    "Do you see that three columns were used for training and there are three values in .coef_? This tells you how important each column, or feature, was for predicting. The more positive the value, the more it predicts defaults. Look at the value for loan_int_rate."
   ]
  },
  {
   "cell_type": "markdown",
   "id": "a1cf4970-cf05-41d4-a73b-9af542d86918",
   "metadata": {},
   "source": [
    "# Predicting the probability of default"
   ]
  },
  {
   "cell_type": "code",
   "execution_count": 14,
   "id": "57e10b63-a5f6-4a42-8284-8dacb8fa3a30",
   "metadata": {},
   "outputs": [],
   "source": [
    "X1_train = cr_loan_clean[['person_income', 'person_emp_length', 'loan_amnt']]\n",
    "X2_train = cr_loan_clean[['person_income', 'loan_percent_income', 'cb_person_cred_hist_length']]\n",
    "y_train = cr_loan_clean[['loan_status']]"
   ]
  },
  {
   "cell_type": "code",
   "execution_count": 15,
   "id": "8b0274d1-039f-43e7-96cb-bd30c0ccdb96",
   "metadata": {},
   "outputs": [
    {
     "name": "stdout",
     "output_type": "stream",
     "text": [
      "   person_income  person_emp_length  loan_amnt\n",
      "0           9600                  5       1000\n",
      "1           9600                  1       5500\n",
      "2          65500                  4      35000\n",
      "3          54400                  8      35000\n",
      "4           9900                  2       2500\n",
      "   person_income  loan_percent_income  cb_person_cred_hist_length\n",
      "0           9600                 0.10                           2\n",
      "1           9600                 0.57                           3\n",
      "2          65500                 0.53                           2\n",
      "3          54400                 0.55                           4\n",
      "4           9900                 0.25                           2\n"
     ]
    }
   ],
   "source": [
    "# Print the first five rows of each training set\n",
    "print(X1_train.head())\n",
    "print(X2_train.head())\n",
    "\n",
    "# Create and train a model on the first training data\n",
    "clf_logistic1 = LogisticRegression(solver='lbfgs').fit(X1_train, np.ravel(y_train))\n",
    "\n",
    "# Create and train a model on the second training data\n",
    "clf_logistic2 = LogisticRegression(solver='lbfgs').fit(X2_train, np.ravel(y_train))"
   ]
  },
  {
   "cell_type": "code",
   "execution_count": 16,
   "id": "c750ff88-cca2-43db-88a4-7cd1adb687cc",
   "metadata": {},
   "outputs": [
    {
     "name": "stdout",
     "output_type": "stream",
     "text": [
      "[[-4.05616932e-05 -2.55445843e-08  1.06992910e-04]]\n",
      "[[-2.19505674e-05  8.92164606e-11 -1.65771266e-09]]\n"
     ]
    }
   ],
   "source": [
    "# Print the coefficients of each model\n",
    "print(clf_logistic1.coef_)\n",
    "print(clf_logistic2.coef_)"
   ]
  },
  {
   "cell_type": "markdown",
   "id": "9ac9ae52-f171-4118-958c-410c5e2065c7",
   "metadata": {},
   "source": [
    "Notice that the coefficient for the person_income changed when we changed the data from X1 to X2. This is a reason to keep most of the data like we did in chapter 1, because the models will learn differently depending on what data they're given!"
   ]
  },
  {
   "cell_type": "markdown",
   "id": "977d5dad-69f5-4ee4-ab45-4787d7b60e58",
   "metadata": {},
   "source": [
    "## Predicting probability of default"
   ]
  },
  {
   "cell_type": "code",
   "execution_count": 17,
   "id": "b86aec0d-29f0-4281-aa0b-1472323089cf",
   "metadata": {},
   "outputs": [],
   "source": [
    "# Create the X and y data sets\n",
    "X = cr_loan_clean[['loan_int_rate','person_emp_length','person_income']]\n",
    "y = cr_loan_clean[['loan_status']]\n",
    "\n",
    "# Use test_train_split to create the training and test sets\n",
    "X_train, X_test, y_train, y_test = train_test_split(X, y, test_size=.3, random_state=123)\n",
    "\n",
    "# Create and fit the logistic regression model\n",
    "clf_logistic = LogisticRegression(solver='lbfgs').fit(X, np.ravel(y))"
   ]
  },
  {
   "cell_type": "code",
   "execution_count": 18,
   "id": "46ac224c-5037-4b31-b229-c042386c4c59",
   "metadata": {},
   "outputs": [
    {
     "name": "stdout",
     "output_type": "stream",
     "text": [
      "   loan_status  prob_default\n",
      "0            1      0.387837\n",
      "1            1      0.452121\n",
      "2            0      0.071326\n",
      "3            0      0.132468\n",
      "4            1      0.147668\n"
     ]
    }
   ],
   "source": [
    "# Create predictions of probability for loan status using test data\n",
    "preds = clf_logistic.predict_proba(X_test)\n",
    "\n",
    "# Create dataframes of first five predictions, and first five true labels\n",
    "preds_df = pd.DataFrame(preds[:,1][0:5], columns = ['prob_default'])\n",
    "true_df = y_test.head()\n",
    "\n",
    "# Concatenate and print the two data frames for comparison\n",
    "print(pd.concat([true_df.reset_index(drop = True), preds_df], axis = 1))"
   ]
  },
  {
   "cell_type": "markdown",
   "id": "649d2333-dbf3-473f-8e1b-eab869d815b4",
   "metadata": {},
   "source": [
    "# Credit Model Performance"
   ]
  },
  {
   "cell_type": "code",
   "execution_count": 19,
   "id": "a6047289-9473-48fe-9e60-ec69f018fae7",
   "metadata": {},
   "outputs": [],
   "source": [
    "from sklearn.metrics import classification_report"
   ]
  },
  {
   "cell_type": "markdown",
   "id": "bb25cf7a-589a-40ea-a7a9-a5927200da11",
   "metadata": {},
   "source": [
    "## Default classification reports"
   ]
  },
  {
   "cell_type": "code",
   "execution_count": 20,
   "id": "9ecb78bd-d8f0-4e95-a552-0f15df71e7a9",
   "metadata": {},
   "outputs": [],
   "source": [
    "preds_df = pd.DataFrame(preds[:,1], columns = ['prob_default'])"
   ]
  },
  {
   "cell_type": "code",
   "execution_count": 21,
   "id": "3b6180fa-c40c-4295-af61-e73ecfd795a0",
   "metadata": {},
   "outputs": [],
   "source": [
    "# Reassign loan status based on the threshold\n",
    "preds_df['loan_status'] = preds_df['prob_default'].apply(lambda x: 1 if x > 0.5 else 0)"
   ]
  },
  {
   "cell_type": "code",
   "execution_count": 22,
   "id": "de9f46d4-d23a-4fef-9a06-20e1af987277",
   "metadata": {},
   "outputs": [
    {
     "name": "stdout",
     "output_type": "stream",
     "text": [
      "0    8046\n",
      "1     792\n",
      "Name: loan_status, dtype: int64\n"
     ]
    }
   ],
   "source": [
    "# Print the row counts for each loan status\n",
    "print(preds_df['loan_status'].value_counts())"
   ]
  },
  {
   "cell_type": "code",
   "execution_count": 23,
   "id": "f5ff1cbc-4cc1-49a6-9199-404a265db9ff",
   "metadata": {},
   "outputs": [
    {
     "name": "stdout",
     "output_type": "stream",
     "text": [
      "              precision    recall  f1-score   support\n",
      "\n",
      " Non-Default       0.83      0.96      0.89      6930\n",
      "     Default       0.65      0.27      0.38      1908\n",
      "\n",
      "    accuracy                           0.81      8838\n",
      "   macro avg       0.74      0.61      0.63      8838\n",
      "weighted avg       0.79      0.81      0.78      8838\n",
      "\n"
     ]
    }
   ],
   "source": [
    "# Print the classification report\n",
    "target_names = ['Non-Default', 'Default']\n",
    "print(classification_report(y_test, preds_df['loan_status'], target_names=target_names))"
   ]
  },
  {
   "cell_type": "markdown",
   "id": "1980dc7d-8ae3-4ce1-8008-5bc2e9c194c8",
   "metadata": {},
   "source": [
    "Well isn't this a surprise! It looks like almost all of our test set was predicted to be non-default. The recall for defaults is 0.27 which is meaning that 27% of our true defaults were predicted correctly."
   ]
  },
  {
   "cell_type": "markdown",
   "id": "18721f44-ae5f-43c1-9891-1069f8fac522",
   "metadata": {},
   "source": [
    "## Selecting report metrics"
   ]
  },
  {
   "cell_type": "code",
   "execution_count": 24,
   "id": "7c70fb4a-197a-4d23-8bd0-4b1e8fd25237",
   "metadata": {},
   "outputs": [],
   "source": [
    "from sklearn.metrics import precision_recall_fscore_support"
   ]
  },
  {
   "cell_type": "code",
   "execution_count": 25,
   "id": "8a0a1002-a34a-4286-ba3d-73f72bf1a838",
   "metadata": {},
   "outputs": [
    {
     "name": "stdout",
     "output_type": "stream",
     "text": [
      "(array([0.82674621, 0.6489899 ]), array([0.95988456, 0.26939203]), array([0.8883547 , 0.38074074]), array([6930, 1908]))\n"
     ]
    }
   ],
   "source": [
    "# Print all the non-average values from the report\n",
    "print(precision_recall_fscore_support(y_test,preds_df['loan_status']))"
   ]
  },
  {
   "cell_type": "code",
   "execution_count": 26,
   "id": "14209cb8-8937-480a-b541-cb43c4720860",
   "metadata": {},
   "outputs": [
    {
     "name": "stdout",
     "output_type": "stream",
     "text": [
      "[0.82674621 0.6489899 ]\n"
     ]
    }
   ],
   "source": [
    "# Print the first two numbers from the report\n",
    "print(precision_recall_fscore_support(y_test,preds_df['loan_status'])[0])"
   ]
  },
  {
   "cell_type": "markdown",
   "id": "891467e3-4703-4bbb-9e1a-95a4d9a75c27",
   "metadata": {},
   "source": [
    "## Visually scoring credit models"
   ]
  },
  {
   "cell_type": "markdown",
   "id": "4cf65590-262b-47f5-b440-91b53fdca95b",
   "metadata": {},
   "source": [
    "### ROC curve charts"
   ]
  },
  {
   "cell_type": "code",
   "execution_count": 27,
   "id": "0cc41194-3835-4327-89b0-be93143411bb",
   "metadata": {},
   "outputs": [],
   "source": [
    "from sklearn.metrics import roc_curve\n",
    "from sklearn.metrics import roc_auc_score"
   ]
  },
  {
   "cell_type": "code",
   "execution_count": 28,
   "id": "8fd9d750-ce04-4cfd-afe3-fd4e3aeca641",
   "metadata": {},
   "outputs": [
    {
     "name": "stdout",
     "output_type": "stream",
     "text": [
      "0.81081692690654\n"
     ]
    },
    {
     "data": {
      "image/png": "[encoded data removed]",
      "text/plain": [
       "<Figure size 640x480 with 1 Axes>"
      ]
     },
     "metadata": {},
     "output_type": "display_data"
    }
   ],
   "source": [
    "# Create predictions and store them in a variable\n",
    "preds = clf_logistic.predict_proba(X_test)\n",
    "\n",
    "# Print the accuracy score the model\n",
    "print(clf_logistic.score(X_test, y_test))\n",
    "\n",
    "# Plot the ROC curve of the probabilities of default\n",
    "prob_default = preds[:, 1]\n",
    "fallout, sensitivity, thresholds = roc_curve(y_test, prob_default)\n",
    "plt.plot(fallout, sensitivity, color = 'darkorange')\n",
    "plt.plot([0, 1], [0, 1], linestyle='--')\n",
    "plt.show()"
   ]
  },
  {
   "cell_type": "code",
   "execution_count": 29,
   "id": "c4a06417-96a3-48d7-b220-d15f0ab42212",
   "metadata": {},
   "outputs": [
    {
     "name": "stdout",
     "output_type": "stream",
     "text": [
      "0.7850115788008869\n"
     ]
    }
   ],
   "source": [
    "# Compute the AUC and store it in a variable\n",
    "auc = roc_auc_score(y_test, prob_default)\n",
    "print(auc)"
   ]
  },
  {
   "cell_type": "markdown",
   "id": "5c9ae14f-32d7-462b-81b1-45c1eb45e1b9",
   "metadata": {},
   "source": [
    "The accuracy for this model is about 81% and the AUC score is 78%. Notice that what the ROC chart shows us is the tradeoff between all values of our false positive rate (fallout) and true positive rate (sensitivity)."
   ]
  },
  {
   "cell_type": "markdown",
   "id": "7af9c71f-f5eb-4a41-af42-4d0db7c6a3fd",
   "metadata": {},
   "source": [
    "## Model Discrimination and impact"
   ]
  },
  {
   "cell_type": "markdown",
   "id": "aa70d7ac-d48b-49ee-ae02-c646f5e19a09",
   "metadata": {
    "tags": []
   },
   "source": [
    "### Confusion Matrices"
   ]
  },
  {
   "cell_type": "code",
   "execution_count": 30,
   "id": "005b6e67-9a6d-4e97-850e-c1222801d4b8",
   "metadata": {},
   "outputs": [],
   "source": [
    "from sklearn.metrics import confusion_matrix"
   ]
  },
  {
   "cell_type": "code",
   "execution_count": 31,
   "id": "9b307b7e-353d-4adc-8787-6ba8f0b2f7a8",
   "metadata": {},
   "outputs": [
    {
     "name": "stdout",
     "output_type": "stream",
     "text": [
      "[[6652  278]\n",
      " [1394  514]]\n"
     ]
    }
   ],
   "source": [
    "# Set the threshold for defaults to 0.5\n",
    "preds_df['loan_status'] = preds_df['prob_default'].apply(lambda x: 1 if x > 0.5 else 0)\n",
    "\n",
    "# Print the confusion matrix\n",
    "print(confusion_matrix(y_test,preds_df['loan_status']))"
   ]
  },
  {
   "cell_type": "code",
   "execution_count": 32,
   "id": "620eae27-f4bc-4b79-ae9f-2e90173190a9",
   "metadata": {},
   "outputs": [
    {
     "name": "stdout",
     "output_type": "stream",
     "text": [
      "[[6268  662]\n",
      " [1093  815]]\n"
     ]
    }
   ],
   "source": [
    "# Set the threshold for defaults to 0.4\n",
    "preds_df['loan_status'] = preds_df['prob_default'].apply(lambda x: 1 if x > 0.4 else 0)\n",
    "\n",
    "# Print the confusion matrix\n",
    "print(confusion_matrix(y_test,preds_df['loan_status']))"
   ]
  },
  {
   "cell_type": "markdown",
   "id": "3e0b0ae6-db0e-477c-b66d-c101af4a9967",
   "metadata": {},
   "source": [
    "### How thresholds affect performance"
   ]
  },
  {
   "cell_type": "code",
   "execution_count": 33,
   "id": "4276b459-f925-4613-8aee-9c2a0eda6ea2",
   "metadata": {},
   "outputs": [
    {
     "name": "stdout",
     "output_type": "stream",
     "text": [
      "8108187.349580714\n"
     ]
    }
   ],
   "source": [
    "# Reassign the values of loan status based on the new threshold\n",
    "preds_df['loan_status'] = preds_df['prob_default'].apply(lambda x: 1 if x > 0.4 else 0)\n",
    "\n",
    "# Store the number of loan defaults from the prediction data\n",
    "num_defaults = preds_df['loan_status'].value_counts()[1]\n",
    "\n",
    "# Store the default recall from the classification report\n",
    "default_recall = precision_recall_fscore_support(y_test, preds_df['loan_status'])[1][1]\n",
    "\n",
    "# Calculate the estimated impact of the new default recall rate\n",
    "avg_loan_amnt = 9583\n",
    "print(num_defaults * avg_loan_amnt * (1 - default_recall))"
   ]
  },
  {
   "cell_type": "markdown",
   "id": "03658746-2bc3-4e88-bbdc-a7923aa1d390",
   "metadata": {},
   "source": [
    "By our estimates, this loss would be around $8.1 million. That seems like a lot! Try rerunning this code with threshold values of 0.3 and 0.5. Do you see the estimated losses changing? How do we find a good threshold value based on these metrics alone?"
   ]
  },
  {
   "cell_type": "code",
   "execution_count": 34,
   "id": "ffab4e16-9a2b-42e1-9579-48e794acd1c6",
   "metadata": {},
   "outputs": [
    {
     "name": "stdout",
     "output_type": "stream",
     "text": [
      "5545121.584905661\n"
     ]
    }
   ],
   "source": [
    "# Reassign the values of loan status based on the new threshold\n",
    "preds_df['loan_status'] = preds_df['prob_default'].apply(lambda x: 1 if x > 0.5 else 0)\n",
    "\n",
    "# Store the number of loan defaults from the prediction data\n",
    "num_defaults = preds_df['loan_status'].value_counts()[1]\n",
    "\n",
    "# Store the default recall from the classification report\n",
    "default_recall = precision_recall_fscore_support(y_test, preds_df['loan_status'])[1][1]\n",
    "\n",
    "# Calculate the estimated impact of the new default recall rate\n",
    "avg_loan_amnt = 9583\n",
    "print(num_defaults * avg_loan_amnt * (1 - default_recall))"
   ]
  },
  {
   "cell_type": "markdown",
   "id": "6a20063f-84e9-4273-9657-da335bc90887",
   "metadata": {},
   "source": [
    "### Threshold selection"
   ]
  },
  {
   "cell_type": "code",
   "execution_count": 114,
   "id": "34620266-dd34-4ebd-8887-1981d21ebccb",
   "metadata": {},
   "outputs": [
    {
     "data": {
      "image/png": "[encoded data removed]",
      "text/plain": [
       "<Figure size 432x288 with 1 Axes>"
      ]
     },
     "metadata": {
      "needs_background": "light"
     },
     "output_type": "display_data"
    }
   ],
   "source": [
    "thresh = [0.2, 0.225, 0.25, 0.275, 0.3, 0.325, 0.35, 0.375, 0.4, 0.425, 0.45, 0.475, 0.5, 0.525, 0.55, 0.575, 0.6, 0.625, 0.65]\n",
    "def_recalls = [0.7981438515081206, 0.7583139984532096, 0.7157772621809745, 0.6759474091260634, 0.6349574632637278, 0.594354215003867, 0.5467904098994586, 0.5054137664346481, 0.46403712296983757, 0.39984532095901004, 0.32211910286156226, 0.2354988399071926, 0.16782675947409126, 0.1148491879350348, 0.07733952049497293, 0.05529775715390565, 0.03750966744006187, 0.026295436968290797, 0.017788089713843776]\n",
    "nondef_recalls = [0.5342465753424658, 0.5973037616873234, 0.6552511415525114, 0.708306153511633, 0.756468797564688, 0.8052837573385518, 0.8482278756251359, 0.8864970645792564, 0.9215046749293324, 0.9492280930637095, 0.9646662317895195, 0.9733637747336378, 0.9809741248097412, 0.9857577734290063, 0.9902152641878669, 0.992280930637095, 0.9948901935203305, 0.9966297021091541, 0.997499456403566]\n",
    "accs = [0.5921588594704684, 0.6326374745417516, 0.6685336048879837, 0.7012050237610319, 0.7298031228784793, 0.7589952477936185, 0.7820773930753564, 0.8028682959945689, 0.8211133740665308, 0.8286659877800407, 0.8236591989137814, 0.811439239646979, 0.8025288526816021, 0.7946367956551256, 0.7898845892735913, 0.7866598778004074, 0.7847929395790902, 0.7836897488119484, 0.7825016972165648]\n",
    "ticks = [0.2, 0.25, 0.3, 0.35, 0.4, 0.45, 0.5, 0.55, 0.6, 0.65]\n",
    "plt.plot(thresh,def_recalls)\n",
    "plt.plot(thresh,nondef_recalls)\n",
    "plt.plot(thresh,accs)\n",
    "plt.xlabel(\"Probability Threshold\")\n",
    "plt.xticks(ticks)\n",
    "plt.legend([\"Default Recall\",\"Non-default Recall\",\"Model Accuracy\"])\n",
    "plt.show()"
   ]
  },
  {
   "cell_type": "markdown",
   "id": "df174f5d-f21c-4eb3-b4f4-65cb73f2b44c",
   "metadata": {},
   "source": [
    "This is the easiest pattern to see on this graph, because it's the point where all three lines converge. This threshold would make a great starting point, but declaring all loans about 0.275 to be a default is probably not practical."
   ]
  },
  {
   "cell_type": "markdown",
   "id": "44381eff",
   "metadata": {},
   "source": []
  }
 ],
 "metadata": {
  "kernelspec": {
   "display_name": "Python 3 (ipykernel)",
   "language": "python",
   "name": "python3"
  },
  "language_info": {
   "codemirror_mode": {
    "name": "ipython",
    "version": 3
   },
   "file_extension": ".py",
   "mimetype": "text/x-python",
   "name": "python",
   "nbconvert_exporter": "python",
   "pygments_lexer": "ipython3",
   "version": "3.11.2"
  }
 },
 "nbformat": 4,
 "nbformat_minor": 5
}
