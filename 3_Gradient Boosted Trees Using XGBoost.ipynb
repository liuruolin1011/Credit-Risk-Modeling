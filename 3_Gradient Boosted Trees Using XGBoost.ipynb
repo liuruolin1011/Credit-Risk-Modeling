{
 "cells": [
  {
   "cell_type": "code",
   "execution_count": 1,
   "id": "ed082c69-ac1a-4aea-8857-349801cb9017",
   "metadata": {},
   "outputs": [],
   "source": [
    "import pandas as pd\n",
    "import numpy as np\n",
    "import matplotlib.pyplot as plt\n",
    "import xgboost as xgb\n",
    "from sklearn.linear_model import LogisticRegression\n",
    "from sklearn.model_selection import train_test_split\n",
    "from sklearn.metrics import classification_report\n",
    "from sklearn.model_selection import cross_val_score"
   ]
  },
  {
   "cell_type": "code",
   "execution_count": 2,
   "id": "85541982-253d-4ecb-967e-3aab2ef5b1fe",
   "metadata": {},
   "outputs": [],
   "source": [
    "cr_loan_prep = pd.read_csv('cr_loan_w2.csv')"
   ]
  },
  {
   "attachments": {},
   "cell_type": "markdown",
   "id": "f287c73c",
   "metadata": {},
   "source": [
    "# Gradient boosted trees with XGBoost"
   ]
  },
  {
   "attachments": {},
   "cell_type": "markdown",
   "id": "0cd2986b",
   "metadata": {},
   "source": [
    "## Trees for defaults"
   ]
  },
  {
   "cell_type": "code",
   "execution_count": 3,
   "id": "6541c07a-8f1c-4392-a90c-2e7a0d216565",
   "metadata": {},
   "outputs": [],
   "source": [
    "# Set the dataset for training\n",
    "X = cr_loan_prep.drop('loan_status', axis=1)\n",
    "y = cr_loan_prep[['loan_status']]\n",
    "X_train, X_test, y_train, y_test = train_test_split(X, y, test_size=0.4, random_state=123)"
   ]
  },
  {
   "cell_type": "code",
   "execution_count": 4,
   "id": "8435fcc5-c49f-4580-a164-af9094e0fa78",
   "metadata": {},
   "outputs": [
    {
     "name": "stdout",
     "output_type": "stream",
     "text": [
      "   loan_status  prob_default\n",
      "0            1      0.990942\n",
      "1            1      0.983987\n",
      "2            0      0.000807\n",
      "3            0      0.001239\n",
      "4            1      0.084892\n"
     ]
    }
   ],
   "source": [
    "# Train a model\n",
    "clf_gbt = xgb.XGBClassifier().fit(X_train, np.ravel(y_train))\n",
    "\n",
    "# Predict with a model\n",
    "gbt_preds = clf_gbt.predict_proba(X_test)\n",
    "\n",
    "# Create dataframes of first five predictions, and first five true labels\n",
    "preds_df = pd.DataFrame(gbt_preds[:,1][0:5], columns = ['prob_default'])\n",
    "true_df = y_test.head()\n",
    "\n",
    "# Concatenate and print the two data frames for comparison\n",
    "print(pd.concat([true_df.reset_index(drop = True), preds_df], axis = 1))"
   ]
  },
  {
   "attachments": {},
   "cell_type": "markdown",
   "id": "783e6f95",
   "metadata": {},
   "source": [
    "## Gradient boosted portfolio performance"
   ]
  },
  {
   "cell_type": "code",
   "execution_count": 11,
   "id": "341ee3db",
   "metadata": {},
   "outputs": [],
   "source": [
    "portfolio = pd.read_csv('portfolio_2.csv')"
   ]
  },
  {
   "cell_type": "code",
   "execution_count": 12,
   "id": "fe6ba322",
   "metadata": {},
   "outputs": [
    {
     "name": "stdout",
     "output_type": "stream",
     "text": [
      "   Unnamed: 0  gbt_prob_default  lr_prob_default  lgd  loan_amnt\n",
      "0           0          0.991000            0.446  0.2      15000\n",
      "1           1          0.984000            0.223  0.2      11200\n",
      "2           2          0.000807            0.289  0.2      15000\n",
      "3           3          0.001240            0.169  0.2      10800\n",
      "4           4          0.084900            0.114  0.2       3000\n",
      "LR expected loss:  5597617.784933953\n",
      "GBT expected loss:  5384466.7748106\n"
     ]
    }
   ],
   "source": [
    "# Print the first five rows of the portfolio data frame\n",
    "print(portfolio.head())\n",
    "\n",
    "# Create expected loss columns for each model using the formula\n",
    "portfolio['gbt_expected_loss'] = portfolio['gbt_prob_default'] * portfolio['lgd'] * portfolio['loan_amnt']\n",
    "portfolio['lr_expected_loss'] = portfolio['lr_prob_default'] * portfolio['lgd'] * portfolio['loan_amnt']\n",
    "\n",
    "# Print the sum of the expected loss for lr\n",
    "print('LR expected loss: ', np.sum(portfolio['lr_expected_loss']))\n",
    "\n",
    "# Print the sum of the expected loss for gbt\n",
    "print('GBT expected loss: ', np.sum(portfolio['gbt_expected_loss']))\n"
   ]
  },
  {
   "attachments": {},
   "cell_type": "markdown",
   "id": "26cfd228",
   "metadata": {},
   "source": [
    "It looks like the total expected loss for the XGBClassifier() model is quite a bit lower. When we talk about accuracy and precision, the goal is to generate models which have a low expected loss. Looking at a classification_report() helps as well."
   ]
  },
  {
   "cell_type": "markdown",
   "id": "790cc7cf",
   "metadata": {},
   "source": [
    "## Assessing graadient boosted trees"
   ]
  },
  {
   "cell_type": "code",
   "execution_count": 6,
   "id": "bed445c9-ad61-4e40-8285-e4e990b96cc5",
   "metadata": {},
   "outputs": [
    {
     "name": "stdout",
     "output_type": "stream",
     "text": [
      "[1 1 0 ... 0 0 0]\n",
      "              precision    recall  f1-score   support\n",
      "\n",
      " Non-Default       0.93      0.99      0.96      9198\n",
      "     Default       0.94      0.74      0.83      2586\n",
      "\n",
      "    accuracy                           0.93     11784\n",
      "   macro avg       0.94      0.86      0.89     11784\n",
      "weighted avg       0.93      0.93      0.93     11784\n",
      "\n"
     ]
    }
   ],
   "source": [
    "# Predict the labels for loan status\n",
    "gbt_preds = clf_gbt.predict(X_test)\n",
    "\n",
    "# Check the values created by the predict method\n",
    "print(gbt_preds)\n",
    "\n",
    "# Print the classification report of the model\n",
    "target_names = ['Non-Default', 'Default']\n",
    "print(classification_report(y_test, gbt_preds, target_names=target_names))"
   ]
  },
  {
   "attachments": {},
   "cell_type": "markdown",
   "id": "4e8d6916",
   "metadata": {},
   "source": [
    "The recall for defaults is 0.74 which is meaning that 74% of our true defaults were predicted correctly.\n",
    "Compating with 27% which generating by logistic regression."
   ]
  },
  {
   "cell_type": "markdown",
   "id": "9421a6c2",
   "metadata": {},
   "source": [
    "# Columns selection for credit risk"
   ]
  },
  {
   "attachments": {},
   "cell_type": "markdown",
   "id": "6f24ab09",
   "metadata": {},
   "source": [
    "## Column importance and default prediction"
   ]
  },
  {
   "cell_type": "code",
   "execution_count": 14,
   "id": "1ed21aa0-c070-4017-8be5-26547533ea87",
   "metadata": {},
   "outputs": [],
   "source": [
    "X = cr_loan_prep[['person_income','loan_int_rate',\n",
    "                  'loan_percent_income','loan_amnt',\n",
    "                  'person_home_ownership_MORTGAGE','loan_grade_F']]\n",
    "y = cr_loan_prep[['loan_status']]\n",
    "X_train, X_test, y_train, y_test = train_test_split(X, y, test_size=0.4, random_state=123)"
   ]
  },
  {
   "cell_type": "code",
   "execution_count": 15,
   "id": "71d6a836-e0a7-4f07-88bb-5146542ccb62",
   "metadata": {},
   "outputs": [
    {
     "name": "stdout",
     "output_type": "stream",
     "text": [
      "{'person_income': 1299.0, 'loan_int_rate': 1001.0, 'loan_percent_income': 515.0, 'loan_amnt': 519.0, 'person_home_ownership_MORTGAGE': 116.0, 'loan_grade_F': 9.0}\n"
     ]
    }
   ],
   "source": [
    "# Create and train the model on the training data\n",
    "clf_gbt = xgb.XGBClassifier().fit(X_train,np.ravel(y_train))\n",
    "\n",
    "# Print the column importances from the model\n",
    "print(clf_gbt.get_booster().get_score(importance_type = 'weight'))"
   ]
  },
  {
   "attachments": {},
   "cell_type": "markdown",
   "id": "b167aaee",
   "metadata": {},
   "source": [
    "So, the importance for loan_grade_F is only 9 in this case. This could be because there are so few of the F-grade loans. While the F-grade loans don't add much to predictions here, they might affect the importance of other training columns."
   ]
  },
  {
   "attachments": {},
   "cell_type": "markdown",
   "id": "7249e2dd",
   "metadata": {},
   "source": [
    "## Visualizing column importance"
   ]
  },
  {
   "cell_type": "code",
   "execution_count": 16,
   "id": "357ce543-3c54-4fc5-8484-f31fc3763177",
   "metadata": {},
   "outputs": [],
   "source": [
    "X2 = cr_loan_prep[['loan_int_rate','person_emp_length']]"
   ]
  },
  {
   "cell_type": "code",
   "execution_count": 17,
   "id": "ba8f9432-1112-457b-9523-12c76b1e2411",
   "metadata": {},
   "outputs": [],
   "source": [
    "X2_train, X2_test, y_train, y_test = train_test_split(X2, y, test_size=0.4, random_state=123)"
   ]
  },
  {
   "cell_type": "code",
   "execution_count": 26,
   "id": "f6825614-9dd6-4ef0-a228-db321f3a59ba",
   "metadata": {},
   "outputs": [
    {
     "data": {
      "image/png": "[encoded data removed]",
      "text/plain": [
       "<Figure size 640x480 with 1 Axes>"
      ]
     },
     "metadata": {},
     "output_type": "display_data"
    }
   ],
   "source": [
    "# Train a model on the X data with 2 columns\n",
    "clf_gbt2 = xgb.XGBClassifier().fit(X2_train,np.ravel(y_train))\n",
    "\n",
    "# Plot the column importance for this model\n",
    "xgb.plot_importance(clf_gbt2, importance_type = 'weight')\n",
    "plt.show()"
   ]
  },
  {
   "cell_type": "code",
   "execution_count": 27,
   "id": "4f0be098-fd28-419a-b824-2cd10475a52f",
   "metadata": {},
   "outputs": [],
   "source": [
    "X3 = cr_loan_prep[['person_income','loan_int_rate','loan_percent_income']]"
   ]
  },
  {
   "cell_type": "code",
   "execution_count": 28,
   "id": "be71663c-f8c6-4d32-b315-8115e1e980c6",
   "metadata": {},
   "outputs": [],
   "source": [
    "X3_train, X3_test, y_train, y_test = train_test_split(X3, y, test_size=0.4, random_state=123)"
   ]
  },
  {
   "cell_type": "code",
   "execution_count": 29,
   "id": "f7e60ebd-55b8-4524-9f16-538e16cc8fd1",
   "metadata": {},
   "outputs": [
    {
     "data": {
      "image/png": "[encoded data removed]",
      "text/plain": [
       "<Figure size 640x480 with 1 Axes>"
      ]
     },
     "metadata": {},
     "output_type": "display_data"
    }
   ],
   "source": [
    "# Train a model on the X data with 3 columns\n",
    "clf_gbt3 = xgb.XGBClassifier().fit(X3_train,np.ravel(y_train))\n",
    "\n",
    "# Plot the column importance for this model\n",
    "xgb.plot_importance(clf_gbt3, importance_type = 'weight')\n",
    "plt.show()"
   ]
  },
  {
   "attachments": {},
   "cell_type": "markdown",
   "id": "e9c93665",
   "metadata": {},
   "source": [
    "Take a closer look at the plots. Did you notice that the importance of loan_int_rate went from 1490 to 1013? Initially, this was the most important column, but person_income ended up taking the top spot here."
   ]
  },
  {
   "attachments": {},
   "cell_type": "markdown",
   "id": "4ea5f186",
   "metadata": {},
   "source": [
    "## Columns selection and model performance"
   ]
  },
  {
   "cell_type": "code",
   "execution_count": 32,
   "id": "7adc342f-0d8a-4e2d-8b41-ae3755a9b6b9",
   "metadata": {},
   "outputs": [
    {
     "name": "stdout",
     "output_type": "stream",
     "text": [
      "              precision    recall  f1-score   support\n",
      "\n",
      " Non-Default       0.91      0.95      0.93      9198\n",
      "     Default       0.81      0.66      0.73      2586\n",
      "\n",
      "    accuracy                           0.89     11784\n",
      "   macro avg       0.86      0.81      0.83     11784\n",
      "weighted avg       0.89      0.89      0.89     11784\n",
      "\n",
      "              precision    recall  f1-score   support\n",
      "\n",
      " Non-Default       0.83      0.96      0.89      9198\n",
      "     Default       0.67      0.29      0.40      2586\n",
      "\n",
      "    accuracy                           0.81     11784\n",
      "   macro avg       0.75      0.62      0.65     11784\n",
      "weighted avg       0.79      0.81      0.78     11784\n",
      "\n"
     ]
    }
   ],
   "source": [
    "gbt_preds = clf_gbt.predict(X_test)\n",
    "gbt2_preds = clf_gbt2.predict(X2_test)\n",
    "\n",
    "# Print the classification report of the first model\n",
    "target_names = ['Non-Default', 'Default']\n",
    "print(classification_report(y_test, gbt_preds, target_names=target_names))\n",
    "\n",
    "# Print the classification report of the second model\n",
    "print(classification_report(y_test, gbt2_preds, target_names=target_names))"
   ]
  },
  {
   "attachments": {},
   "cell_type": "markdown",
   "id": "16f670a5",
   "metadata": {},
   "source": [
    "# Cross validation for credit models"
   ]
  },
  {
   "cell_type": "code",
   "execution_count": 33,
   "id": "3e39fe6c",
   "metadata": {},
   "outputs": [],
   "source": [
    "X = cr_loan_prep[['person_age', 'person_income', 'person_emp_length', 'loan_int_rate', 'loan_grade_E', 'loan_grade_F', 'loan_grade_G', 'cb_person_default_on_file_N', 'cb_person_default_on_file_Y']]\n",
    "y = cr_loan_prep[['loan_status']]\n",
    "X_train, X_test, y_train, y_test = train_test_split(X, y, test_size=0.4, random_state=123)"
   ]
  },
  {
   "cell_type": "code",
   "execution_count": 34,
   "id": "4688db2e-06a6-44a6-9a3d-b6c911413507",
   "metadata": {},
   "outputs": [
    {
     "name": "stdout",
     "output_type": "stream",
     "text": [
      "   train-auc-mean  train-auc-std  test-auc-mean  test-auc-std\n",
      "0        0.824139       0.002134       0.813102      0.005004\n",
      "1        0.832486       0.001611       0.819728      0.004825\n",
      "2        0.837983       0.001041       0.822616      0.006074\n",
      "3        0.841160       0.001387       0.823790      0.005584\n",
      "4        0.843804       0.001749       0.825155      0.004928\n",
      "5        0.846650       0.001473       0.825610      0.005262\n",
      "6        0.849336       0.001242       0.826797      0.004909\n",
      "7        0.852328       0.001558       0.827725      0.005004\n",
      "8        0.855774       0.001249       0.828406      0.004576\n",
      "9        0.858327       0.001064       0.829089      0.004715\n"
     ]
    }
   ],
   "source": [
    "# Set the values for number of folds and stopping iterations\n",
    "n_folds = 5\n",
    "early_stopping = 10\n",
    "\n",
    "# Set any specific parameters for cross validation \n",
    "params = {'objective': 'binary:logistic', 'seed': 99, 'eval_metric': 'auc'}\n",
    "\n",
    "# Create the DTrain matrix for XGBoost\n",
    "Dtrain = xgb.DMatrix(X_train, label = y_train)\n",
    "\n",
    "# Create the data frame of cross validations\n",
    "cv_df = xgb.cv(params, Dtrain, num_boost_round = 10, nfold = n_folds, early_stopping_rounds = early_stopping)\n",
    "\n",
    "# Print the cross validations data frame\n",
    "print(cv_df)"
   ]
  },
  {
   "attachments": {},
   "cell_type": "markdown",
   "id": "850920e7",
   "metadata": {},
   "source": [
    "Do you see how the AUC for both train-auc-mean and test-auc-mean improves at each iteration of cross-validation? As the iterations progress the scores get better, but will they eventually reach 1.0?"
   ]
  },
  {
   "attachments": {},
   "cell_type": "markdown",
   "id": "91af06ec",
   "metadata": {},
   "source": [
    "## Limits to cross-validation testing"
   ]
  },
  {
   "cell_type": "code",
   "execution_count": 36,
   "id": "fa1fe11d",
   "metadata": {},
   "outputs": [],
   "source": [
    "cv = xgb.cv(params, Dtrain, num_boost_round = 600, nfold=10, shuffle = True)"
   ]
  },
  {
   "cell_type": "code",
   "execution_count": 37,
   "id": "96c0a958-59a1-4826-9029-4d6403f3dd0f",
   "metadata": {},
   "outputs": [
    {
     "name": "stdout",
     "output_type": "stream",
     "text": [
      "   train-auc-mean  train-auc-std  test-auc-mean  test-auc-std\n",
      "0        0.823531       0.001326       0.813881      0.010226\n",
      "1        0.830615       0.001646       0.819414      0.009140\n",
      "2        0.836870       0.001217       0.822950      0.009343\n",
      "3        0.840156       0.001704       0.824336      0.008814\n",
      "4        0.842794       0.001452       0.825873      0.008462\n",
      "0.8339330717971966\n"
     ]
    },
    {
     "data": {
      "image/png": "[encoded data removed]",
      "text/plain": [
       "<Figure size 640x480 with 1 Axes>"
      ]
     },
     "metadata": {},
     "output_type": "display_data"
    }
   ],
   "source": [
    "# Print the first five rows of the CV results data frame\n",
    "print(cv.head())\n",
    "\n",
    "# Calculate the mean of the test AUC scores\n",
    "print(np.mean(cv['test-auc-mean']))\n",
    "\n",
    "# Plot the test AUC scores for each iteration\n",
    "plt.plot(cv['test-auc-mean'])\n",
    "plt.title('Test AUC Score Over 600 Iterations')\n",
    "plt.xlabel('Iteration Number')\n",
    "plt.ylabel('Test AUC Score')\n",
    "plt.show()"
   ]
  },
  {
   "attachments": {},
   "cell_type": "markdown",
   "id": "919075b6",
   "metadata": {},
   "source": [
    "Notice that the test AUC score never quite reaches 1.0 and begins to decrease slightly after 100 iterations. This is because this much cross-validation can actually cause the model to become overfit. So, there is a limit to how much cross-validation you should to."
   ]
  },
  {
   "attachments": {},
   "cell_type": "markdown",
   "id": "d33bf47d",
   "metadata": {},
   "source": [
    "## Cross-validation scoring"
   ]
  },
  {
   "cell_type": "code",
   "execution_count": 38,
   "id": "d081be42-a5b7-4373-8d15-91711916d2dd",
   "metadata": {},
   "outputs": [
    {
     "name": "stdout",
     "output_type": "stream",
     "text": [
      "[0.84068794 0.84091423 0.8427246  0.83227705]\n",
      "Average accuracy: 0.84 (+/- 0.01)\n"
     ]
    }
   ],
   "source": [
    "# Create a gradient boosted tree model using two hyperparameters\n",
    "gbt = xgb.XGBClassifier(learning_rate = 0.1, max_depth = 7)\n",
    "\n",
    "# Calculate the cross validation scores for 4 folds\n",
    "cv_scores = cross_val_score(gbt, X_train, np.ravel(y_train), cv = 4)\n",
    "\n",
    "# Print the cross validation scores\n",
    "print(cv_scores)\n",
    "\n",
    "# Print the average accuracy and standard deviation of the scores\n",
    "print(\"Average accuracy: %0.2f (+/- %0.2f)\" % (np.mean(cv_scores), np.std(cv_scores) * 2))"
   ]
  },
  {
   "attachments": {},
   "cell_type": "markdown",
   "id": "1f040a63",
   "metadata": {},
   "source": [
    "With only a couple of hyperparameters and cross-validation, we can get the average accuracy up to 84%. This is a great way to validate how robust the model is."
   ]
  },
  {
   "attachments": {},
   "cell_type": "markdown",
   "id": "f508eff9",
   "metadata": {},
   "source": [
    "# Class imbalance in loan data"
   ]
  },
  {
   "attachments": {},
   "cell_type": "markdown",
   "id": "ca6620c5",
   "metadata": {},
   "source": [
    "## Undersampling training data"
   ]
  },
  {
   "cell_type": "code",
   "execution_count": 39,
   "id": "98090f3d-4d0d-40a8-85d2-c258c91690c4",
   "metadata": {},
   "outputs": [
    {
     "data": {
      "text/plain": [
       "0    13798\n",
       "1     3877\n",
       "Name: loan_status, dtype: int64"
      ]
     },
     "execution_count": 39,
     "metadata": {},
     "output_type": "execute_result"
    }
   ],
   "source": [
    "y_train['loan_status'].value_counts()"
   ]
  },
  {
   "cell_type": "code",
   "execution_count": 40,
   "id": "f4c69fa1-6524-4e98-bed0-0ce87e2ceba0",
   "metadata": {},
   "outputs": [],
   "source": [
    "X_y_train = pd.concat([X_train.reset_index(drop = True),\n",
    "                       y_train.reset_index(drop = True)], axis = 1)\n",
    "count_nondefault, count_default = X_y_train['loan_status'].value_counts()"
   ]
  },
  {
   "cell_type": "code",
   "execution_count": 41,
   "id": "c086cf91-776e-4639-8ec8-6f74f3e333bc",
   "metadata": {},
   "outputs": [
    {
     "name": "stdout",
     "output_type": "stream",
     "text": [
      "0    3877\n",
      "1    3877\n",
      "Name: loan_status, dtype: int64\n"
     ]
    }
   ],
   "source": [
    "# Create data sets for defaults and non-defaults\n",
    "nondefaults = X_y_train[X_y_train['loan_status'] == 0]\n",
    "defaults = X_y_train[X_y_train['loan_status'] == 1]\n",
    "\n",
    "# Undersample the non-defaults\n",
    "nondefaults_under = nondefaults.sample(count_default)\n",
    "\n",
    "# Concatenate the undersampled nondefaults with defaults\n",
    "X_y_train_under = pd.concat([nondefaults_under.reset_index(drop = True),\n",
    "                             defaults.reset_index(drop = True)], axis = 0)\n",
    "\n",
    "# Print the value counts for loan status\n",
    "print(X_y_train_under['loan_status'].value_counts())"
   ]
  },
  {
   "attachments": {},
   "cell_type": "markdown",
   "id": "01bfef9b",
   "metadata": {},
   "source": [
    "Now, our training set has an even number of defaults and non-defaults. Let's test out some machine learning models on this new undersampled data set and compare their performance to the models trained on the regular data set."
   ]
  },
  {
   "attachments": {},
   "cell_type": "markdown",
   "id": "cb1c71ab",
   "metadata": {},
   "source": [
    "## Undersample tree performance"
   ]
  },
  {
   "cell_type": "code",
   "execution_count": 42,
   "id": "1aa9a9a1-5154-4a6a-b7d6-0cbcf054e18d",
   "metadata": {},
   "outputs": [
    {
     "name": "stdout",
     "output_type": "stream",
     "text": [
      "              precision    recall  f1-score   support\n",
      "\n",
      " Non-Default       0.91      0.95      0.93      9198\n",
      "     Default       0.81      0.66      0.73      2586\n",
      "\n",
      "    accuracy                           0.89     11784\n",
      "   macro avg       0.86      0.81      0.83     11784\n",
      "weighted avg       0.89      0.89      0.89     11784\n",
      "\n",
      "              precision    recall  f1-score   support\n",
      "\n",
      " Non-Default       0.83      0.96      0.89      9198\n",
      "     Default       0.67      0.29      0.40      2586\n",
      "\n",
      "    accuracy                           0.81     11784\n",
      "   macro avg       0.75      0.62      0.65     11784\n",
      "weighted avg       0.79      0.81      0.78     11784\n",
      "\n"
     ]
    }
   ],
   "source": [
    "# Check the classification reports\n",
    "target_names = ['Non-Default', 'Default']\n",
    "print(classification_report(y_test, gbt_preds, target_names=target_names))\n",
    "print(classification_report(y_test, gbt2_preds, target_names=target_names))"
   ]
  },
  {
   "cell_type": "code",
   "execution_count": 43,
   "id": "621b0945-af6c-41a2-813d-1841e320ff7b",
   "metadata": {},
   "outputs": [],
   "source": [
    "from sklearn.metrics import confusion_matrix"
   ]
  },
  {
   "cell_type": "code",
   "execution_count": 44,
   "id": "6caeb34f-4f91-44b6-869c-fd402dbdd182",
   "metadata": {},
   "outputs": [
    {
     "name": "stdout",
     "output_type": "stream",
     "text": [
      "[[8784  414]\n",
      " [ 872 1714]]\n",
      "[[8832  366]\n",
      " [1837  749]]\n"
     ]
    }
   ],
   "source": [
    "# Print the confusion matrix for both old and new models\n",
    "print(confusion_matrix(y_test,gbt_preds))\n",
    "print(confusion_matrix(y_test,gbt2_preds))"
   ]
  },
  {
   "cell_type": "code",
   "execution_count": 45,
   "id": "58cc437c-f538-483f-ac0c-09ffb5f96a25",
   "metadata": {},
   "outputs": [],
   "source": [
    "from sklearn.metrics import roc_auc_score"
   ]
  },
  {
   "cell_type": "code",
   "execution_count": 46,
   "id": "dfbf7272-cbb9-4e5c-bec9-ff5ef07093cb",
   "metadata": {},
   "outputs": [
    {
     "name": "stdout",
     "output_type": "stream",
     "text": [
      "0.8088949529530529\n",
      "0.6249226226421662\n"
     ]
    }
   ],
   "source": [
    "# Print and compare the AUC scores of the old and new models\n",
    "print(roc_auc_score(y_test, gbt_preds))\n",
    "print(roc_auc_score(y_test, gbt2_preds))"
   ]
  },
  {
   "attachments": {},
   "cell_type": "markdown",
   "id": "f80df228-1bdc-47fe-a256-4029a8211d28",
   "metadata": {},
   "source": [
    "Undersampling the training data results in more false positives, but the recall for defaults and the AUC score are both higher than the original model. This means overall it predicts defaults much more accurately."
   ]
  },
  {
   "attachments": {},
   "cell_type": "markdown",
   "id": "29fc6164",
   "metadata": {},
   "source": [
    "The test set represents the type of data that will be seen by the model in the real world, so changing it would test the model on unrealistic data."
   ]
  }
 ],
 "metadata": {
  "kernelspec": {
   "display_name": "Python 3 (ipykernel)",
   "language": "python",
   "name": "python3"
  },
  "language_info": {
   "codemirror_mode": {
    "name": "ipython",
    "version": 3
   },
   "file_extension": ".py",
   "mimetype": "text/x-python",
   "name": "python",
   "nbconvert_exporter": "python",
   "pygments_lexer": "ipython3",
   "version": "3.11.2"
  }
 },
 "nbformat": 4,
 "nbformat_minor": 5
}
